{
 "cells": [
  {
   "cell_type": "markdown",
   "id": "f10a7de4",
   "metadata": {},
   "source": [
    "Задача 1\n",
    "\n",
    "Даны значения величины заработной платы заемщиков банка (zp) и значения их поведенческого кредитного скоринга (ks):\n",
    "zp = [35, 45, 190, 200, 40, 70, 54, 150, 120, 110],\n",
    "ks = [401, 574, 874, 919, 459, 739, 653, 902, 746, 832].\n",
    "Используя математические операции, посчитать коэффициенты линейной регрессии,\n",
    "приняв за X заработную плату (то есть, zp - признак),\n",
    "а за y - значения скорингового балла (то есть, ks - целевая переменная).\n",
    "Произвести расчет как с использованием intercept, так и без."
   ]
  },
  {
   "cell_type": "code",
   "execution_count": null,
   "id": "1439ca1a",
   "metadata": {},
   "outputs": [],
   "source": [
    "import numpy as np\n",
    "\n",
    "zp = np.array([35, 45, 190, 200, 40, 70, 54, 150, 120, 110])\n",
    "ks = np.array([401, 574, 874, 919, 459, 739, 653, 902, 746, 832])\n",
    "\n",
    "b_with_intercept = np.cov(zp, ks, ddof=0)[0, 1] / np.var(zp, ddof=0)\n",
    "a_with_intercept = np.mean(ks) - b_with_intercept * np.mean(zp)\n",
    "\n",
    "b_without_intercept = np.sum(zp * ks) / np.sum(zp ** 2)\n",
    "\n",
    "print(f\"Коэффициент наклона с intercept: {b_with_intercept: .2f}\")\n",
    "print(f\"Коэффициент пересечения с осью y: {a_with_intercept: .2f}\")\n",
    "\n",
    "print(f\"Коэффициент наклона без intercept: {b_without_intercept: .2f}\")"
   ]
  },
  {
   "cell_type": "markdown",
   "id": "4e6e04b3",
   "metadata": {},
   "source": [
    "Таким образом, уравнение линейной регрессии с использованием intercept имеет вид:\n",
    "y=2.62*x+444.18\n",
    "\n",
    "А уравнение линейной регрессии без intercept имеет вид:\n",
    "y=5.89*x\n",
    "\n",
    "Можно заметить, что в случае без intercept, уравнение проходит не через начало координат, что означает, что при зарплате равной нулю, кредитный скоринг тоже будет равен нулю.\n",
    "\n",
    "Визуализируем результаты линейной регрессии:"
   ]
  },
  {
   "cell_type": "code",
   "execution_count": null,
   "id": "3992ae8f",
   "metadata": {},
   "outputs": [],
   "source": [
    "import matplotlib.pyplot as plt\n",
    "\n",
    "plt.scatter(zp, ks)\n",
    "\n",
    "plt.plot(zp, b_with_intercept * zp + a_with_intercept,\n",
    "         color='red', label='с intercept')\n",
    "\n",
    "plt.plot(zp, b_without_intercept * zp, color='green', label='без intercept')\n",
    "\n",
    "plt.xlabel('Зарплата')\n",
    "plt.ylabel('Кредитный скоринг')\n",
    "plt.legend()\n",
    "plt.show()"
   ]
  },
  {
   "cell_type": "markdown",
   "id": "73218746",
   "metadata": {},
   "source": [
    "Задача 2\n",
    "\n",
    "Посчитать коэффициент линейной регрессии при заработной плате (zp), используя градиентный спуск (без intercept).\n",
    "\n",
    "Решение:"
   ]
  },
  {
   "cell_type": "code",
   "execution_count": null,
   "id": "bf16f5d9",
   "metadata": {},
   "outputs": [],
   "source": [
    "def gradient_descent(x, y, alpha=0.0001, iterations=1000):\n",
    "    w = 0\n",
    "    n = len(x)\n",
    "\n",
    "    for i in range(iterations):\n",
    "        y_pred = w * x\n",
    "        error = y - y_pred\n",
    "        w += alpha * (1 / n) * np.sum(error * x)\n",
    "\n",
    "    return w"
   ]
  },
  {
   "cell_type": "code",
   "execution_count": null,
   "id": "b1d48c81",
   "metadata": {},
   "outputs": [],
   "source": [
    "b_without_intercept = gradient_descent(zp, ks)\n",
    "\n",
    "print(\"Коэффициент линейной регрессии без intercept:\", b_without_intercept)"
   ]
  },
  {
   "cell_type": "markdown",
   "id": "d9677696",
   "metadata": {},
   "source": [
    "Визуализируем результаты линейной регрессии без intercept:"
   ]
  },
  {
   "cell_type": "code",
   "execution_count": null,
   "id": "89233682",
   "metadata": {},
   "outputs": [],
   "source": [
    "plt.scatter(zp, ks)\n",
    "\n",
    "plt.plot(zp, b_without_intercept * zp, color='green', label='без intercept')\n",
    "\n",
    "plt.xlabel('Зарплата')\n",
    "plt.ylabel('Кредитный скоринг')\n",
    "plt.legend()\n",
    "plt.show()"
   ]
  },
  {
   "cell_type": "markdown",
   "id": "e2217626",
   "metadata": {},
   "source": [
    "На графике можно видеть, что прямая без intercept проходит через начало координат.\n",
    "Это отличается от модели линейной регрессии с использованием intercept, которая проходит через точку (0, a)."
   ]
  },
  {
   "cell_type": "markdown",
   "id": "f9ba5752",
   "metadata": {},
   "source": [
    "Задача 3\n",
    "\n",
    "Произвести вычисления как в пункте 2, но с вычислением intercept. Учесть, что изменение коэффициентов должно производиться на каждом шаге одновременно (то есть изменение одного коэффициента не должно влиять на изменение другого во время одной итерации)."
   ]
  }
 ],
 "metadata": {
  "kernelspec": {
   "display_name": "Python 3 (ipykernel)",
   "language": "python",
   "name": "python3"
  },
  "language_info": {
   "codemirror_mode": {
    "name": "ipython",
    "version": 3
   },
   "file_extension": ".py",
   "mimetype": "text/x-python",
   "name": "python",
   "nbconvert_exporter": "python",
   "pygments_lexer": "ipython3",
   "version": "3.10.9"
  }
 },
 "nbformat": 4,
 "nbformat_minor": 5
}
